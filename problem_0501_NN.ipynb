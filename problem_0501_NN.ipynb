{
  "nbformat": 4,
  "nbformat_minor": 0,
  "metadata": {
    "kernelspec": {
      "display_name": "Python 3",
      "language": "python",
      "name": "python3"
    },
    "language_info": {
      "codemirror_mode": {
        "name": "ipython",
        "version": 3
      },
      "file_extension": ".py",
      "mimetype": "text/x-python",
      "name": "python",
      "nbconvert_exporter": "python",
      "pygments_lexer": "ipython3",
      "version": "3.7.3"
    },
    "colab": {
      "name": "problem_0501_NN.ipynb",
      "provenance": []
    }
  },
  "cells": [
    {
      "cell_type": "markdown",
      "metadata": {
        "id": "rjgrimodz8si"
      },
      "source": [
        "## Quiz #0501"
      ]
    },
    {
      "cell_type": "markdown",
      "metadata": {
        "id": "jKWQCplWz8sm"
      },
      "source": [
        "### \"Logistic Regression and Gradient Descent Algorithm\""
      ]
    },
    {
      "cell_type": "markdown",
      "metadata": {
        "id": "ii_vxXjRz8sp"
      },
      "source": [
        "#### Answer the following questions by providing Python code:\n",
        "#### Objectives:\n",
        "- Code a logistic regression class using only the NumPy library.\n",
        "- Implement in Python the Sigmoid function.\n",
        "- Implement in Python the Gradient of the logarithmic likelihood.\n",
        "- Implement in Python the Gradient Descent Algorithm."
      ]
    },
    {
      "cell_type": "code",
      "metadata": {
        "id": "qPXzVLLez8ss"
      },
      "source": [
        "import numpy as np\n",
        "import pandas as pd\n",
        "from sklearn.datasets import load_breast_cancer\n",
        "from sklearn.model_selection import train_test_split"
      ],
      "execution_count": 9,
      "outputs": []
    },
    {
      "cell_type": "markdown",
      "metadata": {
        "id": "NfGrSwGhz8sv"
      },
      "source": [
        "#### Read in data:"
      ]
    },
    {
      "cell_type": "code",
      "metadata": {
        "id": "5v7cO1Jez8sv"
      },
      "source": [
        "# Load data.\n",
        "data = load_breast_cancer()\n",
        "# Explanatory variables.\n",
        "X = data['data']\n",
        "# Relabel such that 0 = 'benign' and 1 = malignant.\n",
        "Y = 1 - data['target']"
      ],
      "execution_count": 10,
      "outputs": []
    },
    {
      "cell_type": "code",
      "metadata": {
        "id": "RfwOovCoz8sw"
      },
      "source": [
        "# Split the dataset into training and testing.\n",
        "X_train, X_test, Y_train, Y_test = train_test_split(X, Y, test_size=0.4, random_state=1234)"
      ],
      "execution_count": 11,
      "outputs": []
    },
    {
      "cell_type": "markdown",
      "metadata": {
        "id": "18dR-OLBz8sy"
      },
      "source": [
        "1). Define the 'sigmoid' and 'gradient' functions to produce the output shown below:"
      ]
    },
    {
      "cell_type": "code",
      "metadata": {
        "id": "yPOYE1H2z8sz"
      },
      "source": [
        " def _sigmoid(self, x):\n",
        "        return 1 / (1 + np.exp(-x))"
      ],
      "execution_count": 12,
      "outputs": []
    },
    {
      "cell_type": "code",
      "metadata": {
        "id": "hZ1hHhYJjX87"
      },
      "source": [
        "def gradient(X, Y, beta):\n",
        "      dw = 1/(n_samples) * np.dot(X.T, (y_predicted - y))\n",
        "      db = 1/(n_samples) * np.sum(y_predicted - y)"
      ],
      "execution_count": 13,
      "outputs": []
    },
    {
      "cell_type": "markdown",
      "metadata": {
        "id": "fW8tGbtKz8s3"
      },
      "source": [
        "2). Define the 'LogisticRegression' class to produce the output shown below:"
      ]
    },
    {
      "cell_type": "code",
      "metadata": {
        "id": "ZnWTClEYz8s4"
      },
      "source": [
        "class LogisticRegression:\n",
        "    def __init__(self, learning_rate=0.001, n_iters=1000):\n",
        "        self.lr = learning_rate\n",
        "        self.n_iters = n_iters\n",
        "        self.weights = None\n",
        "        self.bias = None\n",
        "\n",
        "    def fit(self, X, y):\n",
        "        n_samples, n_features = X.shape\n",
        "\n",
        "        # init parameters\n",
        "        self.weights = np.zeros(n_features)\n",
        "        self.bias = 0\n",
        "\n",
        "        # gradient descent\n",
        "        for _ in range(self.n_iters):\n",
        "            # approximate y with linear combination of weights and x, plus bias\n",
        "            linear_model = np.dot(X, self.weights) + self.bias\n",
        "            # apply sigmoid function\n",
        "            y_predicted = self._sigmoid(linear_model)\n",
        "\n",
        "            # compute gradients\n",
        "            dw = (1 / n_samples) * np.dot(X.T, (y_predicted - y))\n",
        "            db = (1 / n_samples) * np.sum(y_predicted - y)\n",
        "            # update parameters\n",
        "            self.weights -= self.lr * dw\n",
        "            self.bias -= self.lr * db\n",
        "\n",
        "    def predict(self, X):\n",
        "        linear_model = np.dot(X, self.weights) + self.bias\n",
        "        y_predicted = self._sigmoid(linear_model)\n",
        "        y_predicted_cls = [1 if i > 0.5 else 0 for i in y_predicted]\n",
        "        return np.array(y_predicted_cls)\n",
        "    def _sigmoid(self, x):\n",
        "        return 1 / (1 + np.exp(-x))"
      ],
      "execution_count": 14,
      "outputs": []
    },
    {
      "cell_type": "markdown",
      "metadata": {
        "id": "Q4LW6q4tz8s5"
      },
      "source": [
        "#### Sample run:"
      ]
    },
    {
      "cell_type": "code",
      "metadata": {
        "id": "LF-BtAahz8s6"
      },
      "source": [
        "# Hyperparameter for the learner.\n",
        "learning_rate = 0.001"
      ],
      "execution_count": 15,
      "outputs": []
    },
    {
      "cell_type": "code",
      "metadata": {
        "id": "gqZh9Tztz8s9",
        "colab": {
          "base_uri": "https://localhost:8080/"
        },
        "outputId": "9e69c205-cf6c-4cb1-b8cb-4046f5aa5f81"
      },
      "source": [
        "#Train & Predict\n",
        "if __name__ == \"__main__\":\n",
        "    # Imports\n",
        "    from sklearn.model_selection import train_test_split\n",
        "    from sklearn import datasets\n",
        "\n",
        "    def accuracy(y_true, y_pred):\n",
        "        accuracy = np.sum(y_true == y_pred) / len(y_true)\n",
        "        return accuracy\n",
        "\n",
        "    bc = datasets.load_breast_cancer()\n",
        "    X, y = bc.data, bc.target\n",
        "\n",
        "    X_train, X_test, y_train, y_test = train_test_split(\n",
        "        X, y, test_size=0.2, random_state=1234\n",
        "    )\n",
        "\n",
        "    regressor = LogisticRegression(learning_rate=0.0001, n_iters=1000)\n",
        "    regressor.fit(X_train, y_train)\n",
        "    predictions = regressor.predict(X_test)\n",
        "  # Display the accuracy.\n",
        "    print(\"LR classification accuracy:\", accuracy(y_test, predictions))"
      ],
      "execution_count": 16,
      "outputs": [
        {
          "output_type": "stream",
          "text": [
            "LR classification accuracy: 0.9298245614035088\n"
          ],
          "name": "stdout"
        }
      ]
    }
  ]
}